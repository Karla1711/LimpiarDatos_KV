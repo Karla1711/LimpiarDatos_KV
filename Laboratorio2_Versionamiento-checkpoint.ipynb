{
 "cells": [
  {
   "cell_type": "markdown",
   "id": "91f7e981",
   "metadata": {},
   "source": [
    "# Librerías"
   ]
  },
  {
   "cell_type": "code",
   "execution_count": 1,
   "id": "ab8a2301",
   "metadata": {},
   "outputs": [
    {
     "name": "stdout",
     "output_type": "stream",
     "text": [
      "Importar las librerías necesarias para el procesamiento de los datos del \n",
      "    dataset (data_act_01.csv)\n",
      "None\n"
     ]
    }
   ],
   "source": [
    "def libreriasProcesammiento():\n",
    "    '''Importar las librerías necesarias para el procesamiento de los datos del \n",
    "    dataset (data_act_01.csv)'''\n",
    "import pandas as pd\n",
    "import numpy as np\n",
    "import datetime as dt\n",
    "import missingno as msno\n",
    "print(libreriasProcesammiento.__doc__)\n",
    "print(libreriasProcesammiento())\n"
   ]
  },
  {
   "cell_type": "code",
   "execution_count": 2,
   "id": "c68554ce",
   "metadata": {},
   "outputs": [
    {
     "name": "stdout",
     "output_type": "stream",
     "text": [
      "Importar las librerías necesarias para la visualización de los datos del \n",
      "    dataset (data_act_01.csv) \n",
      "None\n"
     ]
    }
   ],
   "source": [
    "def libreriasVisualización():\n",
    "    '''Importar las librerías necesarias para la visualización de los datos del \n",
    "    dataset (data_act_01.csv) '''\n",
    "import matplotlib.pyplot as plt\n",
    "import seaborn as sns\n",
    "import plotly.graph_objects as go\n",
    "print(libreriasVisualización.__doc__)\n",
    "print(libreriasVisualización())"
   ]
  },
  {
   "cell_type": "markdown",
   "id": "985f1aff",
   "metadata": {},
   "source": [
    "# Cargar datos del dataset"
   ]
  },
  {
   "cell_type": "code",
   "execution_count": 4,
   "id": "1c76296e",
   "metadata": {},
   "outputs": [
    {
     "name": "stdout",
     "output_type": "stream",
     "text": [
      "Cargar el conjunto de datos del dataset  \n",
      "None\n"
     ]
    }
   ],
   "source": [
    "def cargarleer():\n",
    "    '''Cargar el conjunto de datos del dataset  '''\n",
    "datos =pd.read_csv(\"data_act_01.csv\")\n",
    "print(cargarleer.__doc__)\n",
    "print(cargarleer())"
   ]
  },
  {
   "cell_type": "code",
   "execution_count": null,
   "id": "fcc3c05a",
   "metadata": {},
   "outputs": [],
   "source": []
  }
 ],
 "metadata": {
  "kernelspec": {
   "display_name": "Python 3 (ipykernel)",
   "language": "python",
   "name": "python3"
  },
  "language_info": {
   "codemirror_mode": {
    "name": "ipython",
    "version": 3
   },
   "file_extension": ".py",
   "mimetype": "text/x-python",
   "name": "python",
   "nbconvert_exporter": "python",
   "pygments_lexer": "ipython3",
   "version": "3.9.12"
  }
 },
 "nbformat": 4,
 "nbformat_minor": 5
}
