{
 "cells": [
  {
   "cell_type": "markdown",
   "id": "17629b04",
   "metadata": {},
   "source": [
    "# Librerías"
   ]
  },
  {
   "cell_type": "code",
   "execution_count": 1,
   "id": "450b12f3",
   "metadata": {},
   "outputs": [
    {
     "name": "stdout",
     "output_type": "stream",
     "text": [
      "Importar las librerías necesarias para el procesamiento de los datos del \n",
      "    dataset (data_act_01.csv)\n",
      "None\n"
     ]
    }
   ],
   "source": [
    "def libreriasProcesammiento():\n",
    "    '''Importar las librerías necesarias para el procesamiento de los datos del \n",
    "    dataset (data_act_01.csv)'''\n",
    "import pandas as pd\n",
    "import numpy as np\n",
    "import datetime as dt\n",
    "import missingno as msno\n",
    "print(libreriasProcesammiento.__doc__)\n",
    "print(libreriasProcesammiento())\n"
   ]
  },
  {
   "cell_type": "code",
   "execution_count": 2,
   "id": "f15ee8bd",
   "metadata": {},
   "outputs": [
    {
     "name": "stdout",
     "output_type": "stream",
     "text": [
      "Importar las librerías necesarias para la visualización de los datos del \n",
      "    dataset (data_act_01.csv) \n",
      "None\n"
     ]
    }
   ],
   "source": [
    "def libreriasVisualización():\n",
    "    '''Importar las librerías necesarias para la visualización de los datos del \n",
    "    dataset (data_act_01.csv) '''\n",
    "import matplotlib.pyplot as plt\n",
    "import seaborn as sns\n",
    "import plotly.graph_objects as go\n",
    "print(libreriasVisualización.__doc__)\n",
    "print(libreriasVisualización())"
   ]
  },
  {
   "cell_type": "markdown",
   "id": "96b9e334",
   "metadata": {},
   "source": [
    "# Cargar datos del dataset"
   ]
  },
  {
   "cell_type": "code",
   "execution_count": 4,
   "id": "3280ce45",
   "metadata": {},
   "outputs": [
    {
     "name": "stdout",
     "output_type": "stream",
     "text": [
      "Cargar el conjunto de datos del dataset  \n",
      "None\n"
     ]
    }
   ],
   "source": [
    "def cargarleer():\n",
    "    '''Cargar el conjunto de datos del dataset  '''\n",
    "datos =pd.read_csv(\"data_act_01.csv\")\n",
    "print(cargarleer.__doc__)\n",
    "print(cargarleer())"
   ]
  },
  {
   "cell_type": "markdown",
   "id": "b411ba29",
   "metadata": {},
   "source": [
    "# Visualización de los datos"
   ]
  },
  {
   "cell_type": "code",
   "execution_count": 5,
   "id": "d1d7c002",
   "metadata": {},
   "outputs": [
    {
     "name": "stdout",
     "output_type": "stream",
     "text": [
      "Cargar el conjunto de datos del dataset  \n",
      "      CrimeId;OriginalCrimeTypeName;OffenseDate;CallTime;CallDateTime;Disposition;Address;City;State;AgencyId;Range;AddressType\n",
      "0      160903280;Assault / Battery;2016-03-30T00:00:0...                                                                       \n",
      "1      160912272;Homeless Complaint;2016-03-31T00:00:...                                                                       \n",
      "2      160912590;Susp Info;2016-03-31T00:00:00;16:49;...                                                                       \n",
      "3      160912801;Report;2016-03-31T00:00:00;17:38;201...                                                                       \n",
      "4      160912811;594;2016-03-31T00:00:00;17:42;2016-0...                                                                       \n",
      "...                                                  ...                                                                       \n",
      "10046  160964210;Well Being Check;2016-04-05T00:00:00...                                                                       \n",
      "10047  160964216;Traffic Stop;2016-04-05T00:00:00;23:...                                                                       \n",
      "10048  160964227;Traffic Stop;2016-04-05T00:00:00;23:...                                                                       \n",
      "10049  160964229;Passing Call;2016-04-05T00:00:00;23:...                                                                       \n",
      "10050  160964249;Traffic Stop;2016-04-05T00:00:00;23:...                                                                       \n",
      "\n",
      "[10051 rows x 1 columns]\n"
     ]
    }
   ],
   "source": [
    "def leerdatos():\n",
    "    '''Cargar el conjunto de datos del dataset  '''\n",
    "print(leerdatos.__doc__)\n",
    "print(datos)"
   ]
  },
  {
   "cell_type": "markdown",
   "id": "2e4004f1",
   "metadata": {},
   "source": [
    "Para cargar los datos de un archivo CSV con ayuda de la función read_csv() con ayuda de la librería Pandas. Esta librería ayuda a importar archivos en formato CSV de una forma fácil y sencilla. Esta función por defecto separa la información por medio de la coma (,). Pero se debe tener en cuenta que no todos los archivos CSV están delimitados por comas o también se puede tener más de un delimitador. Como se puede observar los datos no se ven de manera correcta. Además, en español el separador de decimales es la coma y puede llevar a una confusión. Para solucionar este inconveniente se hace uso de la propiedad \"sep\" pandas, donde se indica el delimitador de punto y coma para visualizarlo de mejor manera."
   ]
  },
  {
   "cell_type": "code",
   "execution_count": 6,
   "id": "ee70064c",
   "metadata": {},
   "outputs": [
    {
     "name": "stdout",
     "output_type": "stream",
     "text": [
      "Usar la propiedad sep de pandas para agregar un delimitar al conjunto de datos\n",
      "       e imprimimos los primeros cinco registros con el comando head()\n",
      "None\n"
     ]
    },
    {
     "data": {
      "text/html": [
       "<div>\n",
       "<style scoped>\n",
       "    .dataframe tbody tr th:only-of-type {\n",
       "        vertical-align: middle;\n",
       "    }\n",
       "\n",
       "    .dataframe tbody tr th {\n",
       "        vertical-align: top;\n",
       "    }\n",
       "\n",
       "    .dataframe thead th {\n",
       "        text-align: right;\n",
       "    }\n",
       "</style>\n",
       "<table border=\"1\" class=\"dataframe\">\n",
       "  <thead>\n",
       "    <tr style=\"text-align: right;\">\n",
       "      <th></th>\n",
       "      <th>CrimeId</th>\n",
       "      <th>OriginalCrimeTypeName</th>\n",
       "      <th>OffenseDate</th>\n",
       "      <th>CallTime</th>\n",
       "      <th>CallDateTime</th>\n",
       "      <th>Disposition</th>\n",
       "      <th>Address</th>\n",
       "      <th>City</th>\n",
       "      <th>State</th>\n",
       "      <th>AgencyId</th>\n",
       "      <th>Range</th>\n",
       "      <th>AddressType</th>\n",
       "    </tr>\n",
       "  </thead>\n",
       "  <tbody>\n",
       "    <tr>\n",
       "      <th>0</th>\n",
       "      <td>160903280</td>\n",
       "      <td>Assault / Battery</td>\n",
       "      <td>2016-03-30T00:00:00</td>\n",
       "      <td>18:42</td>\n",
       "      <td>2016-03-30T18:42:00</td>\n",
       "      <td>REP</td>\n",
       "      <td>100 Block Of Chilton Av</td>\n",
       "      <td>San Francisco</td>\n",
       "      <td>CA</td>\n",
       "      <td>1</td>\n",
       "      <td>NaN</td>\n",
       "      <td>Premise Address</td>\n",
       "    </tr>\n",
       "    <tr>\n",
       "      <th>1</th>\n",
       "      <td>160912272</td>\n",
       "      <td>Homeless Complaint</td>\n",
       "      <td>2016-03-31T00:00:00</td>\n",
       "      <td>15:31</td>\n",
       "      <td>2016-03-31T15:31:00</td>\n",
       "      <td>GOA</td>\n",
       "      <td>2300 Block Of Market St</td>\n",
       "      <td>San Francisco</td>\n",
       "      <td>CA</td>\n",
       "      <td>1</td>\n",
       "      <td>NaN</td>\n",
       "      <td>Premise Address</td>\n",
       "    </tr>\n",
       "    <tr>\n",
       "      <th>2</th>\n",
       "      <td>160912590</td>\n",
       "      <td>Susp Info</td>\n",
       "      <td>2016-03-31T00:00:00</td>\n",
       "      <td>16:49</td>\n",
       "      <td>2016-03-31T16:49:00</td>\n",
       "      <td>GOA</td>\n",
       "      <td>2300 Block Of Market St</td>\n",
       "      <td>San Francisco</td>\n",
       "      <td>CA</td>\n",
       "      <td>1</td>\n",
       "      <td>NaN</td>\n",
       "      <td>Premise Address</td>\n",
       "    </tr>\n",
       "    <tr>\n",
       "      <th>3</th>\n",
       "      <td>160912801</td>\n",
       "      <td>Report</td>\n",
       "      <td>2016-03-31T00:00:00</td>\n",
       "      <td>17:38</td>\n",
       "      <td>2016-03-31T17:38:00</td>\n",
       "      <td>GOA</td>\n",
       "      <td>500 Block Of 7th St</td>\n",
       "      <td>San Francisco</td>\n",
       "      <td>CA</td>\n",
       "      <td>1</td>\n",
       "      <td>NaN</td>\n",
       "      <td>Premise Address</td>\n",
       "    </tr>\n",
       "    <tr>\n",
       "      <th>4</th>\n",
       "      <td>160912811</td>\n",
       "      <td>594</td>\n",
       "      <td>2016-03-31T00:00:00</td>\n",
       "      <td>17:42</td>\n",
       "      <td>2016-03-31T17:42:00</td>\n",
       "      <td>REP</td>\n",
       "      <td>Beale St/bryant St</td>\n",
       "      <td>San Francisco</td>\n",
       "      <td>CA</td>\n",
       "      <td>1</td>\n",
       "      <td>NaN</td>\n",
       "      <td>Intersection</td>\n",
       "    </tr>\n",
       "  </tbody>\n",
       "</table>\n",
       "</div>"
      ],
      "text/plain": [
       "     CrimeId OriginalCrimeTypeName          OffenseDate CallTime  \\\n",
       "0  160903280     Assault / Battery  2016-03-30T00:00:00    18:42   \n",
       "1  160912272    Homeless Complaint  2016-03-31T00:00:00    15:31   \n",
       "2  160912590             Susp Info  2016-03-31T00:00:00    16:49   \n",
       "3  160912801                Report  2016-03-31T00:00:00    17:38   \n",
       "4  160912811                   594  2016-03-31T00:00:00    17:42   \n",
       "\n",
       "          CallDateTime Disposition                  Address           City  \\\n",
       "0  2016-03-30T18:42:00         REP  100 Block Of Chilton Av  San Francisco   \n",
       "1  2016-03-31T15:31:00         GOA  2300 Block Of Market St  San Francisco   \n",
       "2  2016-03-31T16:49:00         GOA  2300 Block Of Market St  San Francisco   \n",
       "3  2016-03-31T17:38:00         GOA      500 Block Of 7th St  San Francisco   \n",
       "4  2016-03-31T17:42:00         REP       Beale St/bryant St  San Francisco   \n",
       "\n",
       "  State AgencyId  Range      AddressType  \n",
       "0    CA        1    NaN  Premise Address  \n",
       "1    CA        1    NaN  Premise Address  \n",
       "2    CA        1    NaN  Premise Address  \n",
       "3    CA        1    NaN  Premise Address  \n",
       "4    CA        1    NaN     Intersection  "
      ]
     },
     "execution_count": 6,
     "metadata": {},
     "output_type": "execute_result"
    }
   ],
   "source": [
    "def SOLUCIONleer():\n",
    "    '''Usar la propiedad sep de pandas para agregar un delimitar al conjunto de datos\n",
    "       e imprimimos los primeros cinco registros con el comando head()'''\n",
    "datos =pd.read_csv(\"data_act_01.csv\",sep=';')\n",
    "print(SOLUCIONleer.__doc__)\n",
    "print(SOLUCIONleer())\n",
    "datos.head()"
   ]
  },
  {
   "cell_type": "code",
   "execution_count": 7,
   "id": "b7c0c4fc",
   "metadata": {},
   "outputs": [
    {
     "name": "stdout",
     "output_type": "stream",
     "text": [
      "Con el comnado tail() se muestran los últimos cinco registro de un dataframe\n"
     ]
    },
    {
     "data": {
      "text/html": [
       "<div>\n",
       "<style scoped>\n",
       "    .dataframe tbody tr th:only-of-type {\n",
       "        vertical-align: middle;\n",
       "    }\n",
       "\n",
       "    .dataframe tbody tr th {\n",
       "        vertical-align: top;\n",
       "    }\n",
       "\n",
       "    .dataframe thead th {\n",
       "        text-align: right;\n",
       "    }\n",
       "</style>\n",
       "<table border=\"1\" class=\"dataframe\">\n",
       "  <thead>\n",
       "    <tr style=\"text-align: right;\">\n",
       "      <th></th>\n",
       "      <th>CrimeId</th>\n",
       "      <th>OriginalCrimeTypeName</th>\n",
       "      <th>OffenseDate</th>\n",
       "      <th>CallTime</th>\n",
       "      <th>CallDateTime</th>\n",
       "      <th>Disposition</th>\n",
       "      <th>Address</th>\n",
       "      <th>City</th>\n",
       "      <th>State</th>\n",
       "      <th>AgencyId</th>\n",
       "      <th>Range</th>\n",
       "      <th>AddressType</th>\n",
       "    </tr>\n",
       "  </thead>\n",
       "  <tbody>\n",
       "    <tr>\n",
       "      <th>10046</th>\n",
       "      <td>160964210</td>\n",
       "      <td>Well Being Check</td>\n",
       "      <td>2016-04-05T00:00:00</td>\n",
       "      <td>23:38</td>\n",
       "      <td>2016-04-05T23:38:00</td>\n",
       "      <td>GOA</td>\n",
       "      <td>Hollister Av/hawes St</td>\n",
       "      <td>San Francisco</td>\n",
       "      <td>CA</td>\n",
       "      <td>1</td>\n",
       "      <td>NaN</td>\n",
       "      <td>Intersection</td>\n",
       "    </tr>\n",
       "    <tr>\n",
       "      <th>10047</th>\n",
       "      <td>160964216</td>\n",
       "      <td>Traffic Stop</td>\n",
       "      <td>2016-04-05T00:00:00</td>\n",
       "      <td>23:43</td>\n",
       "      <td>2016-04-05T23:43:00</td>\n",
       "      <td>ADV</td>\n",
       "      <td>California St/mason St</td>\n",
       "      <td>San Francisco</td>\n",
       "      <td>CA</td>\n",
       "      <td>1</td>\n",
       "      <td>NaN</td>\n",
       "      <td>Intersection</td>\n",
       "    </tr>\n",
       "    <tr>\n",
       "      <th>10048</th>\n",
       "      <td>160964227</td>\n",
       "      <td>Traffic Stop</td>\n",
       "      <td>2016-04-05T00:00:00</td>\n",
       "      <td>23:48</td>\n",
       "      <td>2016-04-05T23:48:00</td>\n",
       "      <td>CIT</td>\n",
       "      <td>Rosella Ct/onondaga Av</td>\n",
       "      <td>San Francisco</td>\n",
       "      <td>CA</td>\n",
       "      <td>1</td>\n",
       "      <td>NaN</td>\n",
       "      <td>Intersection</td>\n",
       "    </tr>\n",
       "    <tr>\n",
       "      <th>10049</th>\n",
       "      <td>160964229</td>\n",
       "      <td>Passing Call</td>\n",
       "      <td>2016-04-05T00:00:00</td>\n",
       "      <td>23:48</td>\n",
       "      <td>2016-04-05T23:48:00</td>\n",
       "      <td>Not recorded</td>\n",
       "      <td>0 Blk Herbst Rd</td>\n",
       "      <td>San Francisco</td>\n",
       "      <td>CA</td>\n",
       "      <td>1</td>\n",
       "      <td>NaN</td>\n",
       "      <td>Geo-Override</td>\n",
       "    </tr>\n",
       "    <tr>\n",
       "      <th>10050</th>\n",
       "      <td>160964249</td>\n",
       "      <td>Traffic Stop</td>\n",
       "      <td>2016-04-05T00:00:00</td>\n",
       "      <td>23:54</td>\n",
       "      <td>2016-04-05T23:54:00</td>\n",
       "      <td>ADV</td>\n",
       "      <td>Grant Av/geary St</td>\n",
       "      <td>San Francisco</td>\n",
       "      <td>CA</td>\n",
       "      <td>1</td>\n",
       "      <td>NaN</td>\n",
       "      <td>Intersection</td>\n",
       "    </tr>\n",
       "  </tbody>\n",
       "</table>\n",
       "</div>"
      ],
      "text/plain": [
       "         CrimeId OriginalCrimeTypeName          OffenseDate CallTime  \\\n",
       "10046  160964210      Well Being Check  2016-04-05T00:00:00    23:38   \n",
       "10047  160964216          Traffic Stop  2016-04-05T00:00:00    23:43   \n",
       "10048  160964227          Traffic Stop  2016-04-05T00:00:00    23:48   \n",
       "10049  160964229          Passing Call  2016-04-05T00:00:00    23:48   \n",
       "10050  160964249          Traffic Stop  2016-04-05T00:00:00    23:54   \n",
       "\n",
       "              CallDateTime   Disposition                 Address  \\\n",
       "10046  2016-04-05T23:38:00           GOA   Hollister Av/hawes St   \n",
       "10047  2016-04-05T23:43:00           ADV  California St/mason St   \n",
       "10048  2016-04-05T23:48:00           CIT  Rosella Ct/onondaga Av   \n",
       "10049  2016-04-05T23:48:00  Not recorded         0 Blk Herbst Rd   \n",
       "10050  2016-04-05T23:54:00           ADV       Grant Av/geary St   \n",
       "\n",
       "                City State AgencyId  Range   AddressType  \n",
       "10046  San Francisco    CA        1    NaN  Intersection  \n",
       "10047  San Francisco    CA        1    NaN  Intersection  \n",
       "10048  San Francisco    CA        1    NaN  Intersection  \n",
       "10049  San Francisco    CA        1    NaN  Geo-Override  \n",
       "10050  San Francisco    CA        1    NaN  Intersection  "
      ]
     },
     "execution_count": 7,
     "metadata": {},
     "output_type": "execute_result"
    }
   ],
   "source": [
    "def ultimas():\n",
    "    '''Con el comnado tail() se muestran los últimos cinco registro de un dataframe'''\n",
    "print(ultimas.__doc__)\n",
    "datos.tail()"
   ]
  },
  {
   "cell_type": "code",
   "execution_count": 8,
   "id": "97ab84e2",
   "metadata": {},
   "outputs": [
    {
     "name": "stdout",
     "output_type": "stream",
     "text": [
      "Con el comando sample() se muestran el número \n",
      "    de registro configurados aleatoriamente de un dataframe\n"
     ]
    },
    {
     "data": {
      "text/html": [
       "<div>\n",
       "<style scoped>\n",
       "    .dataframe tbody tr th:only-of-type {\n",
       "        vertical-align: middle;\n",
       "    }\n",
       "\n",
       "    .dataframe tbody tr th {\n",
       "        vertical-align: top;\n",
       "    }\n",
       "\n",
       "    .dataframe thead th {\n",
       "        text-align: right;\n",
       "    }\n",
       "</style>\n",
       "<table border=\"1\" class=\"dataframe\">\n",
       "  <thead>\n",
       "    <tr style=\"text-align: right;\">\n",
       "      <th></th>\n",
       "      <th>CrimeId</th>\n",
       "      <th>OriginalCrimeTypeName</th>\n",
       "      <th>OffenseDate</th>\n",
       "      <th>CallTime</th>\n",
       "      <th>CallDateTime</th>\n",
       "      <th>Disposition</th>\n",
       "      <th>Address</th>\n",
       "      <th>City</th>\n",
       "      <th>State</th>\n",
       "      <th>AgencyId</th>\n",
       "      <th>Range</th>\n",
       "      <th>AddressType</th>\n",
       "    </tr>\n",
       "  </thead>\n",
       "  <tbody>\n",
       "    <tr>\n",
       "      <th>8779</th>\n",
       "      <td>160953649</td>\n",
       "      <td>Male</td>\n",
       "      <td>2016-04-04T00:00:00</td>\n",
       "      <td>20:44</td>\n",
       "      <td>2016-04-04T20:44:00</td>\n",
       "      <td>HAN</td>\n",
       "      <td>Vallejo St/octavia St</td>\n",
       "      <td>San Francisco</td>\n",
       "      <td>CA</td>\n",
       "      <td>1</td>\n",
       "      <td>NaN</td>\n",
       "      <td>Intersection</td>\n",
       "    </tr>\n",
       "    <tr>\n",
       "      <th>4097</th>\n",
       "      <td>160933192</td>\n",
       "      <td>Poss</td>\n",
       "      <td>2016-04-02T00:00:00</td>\n",
       "      <td>19:46</td>\n",
       "      <td>2016-04-02T19:46:00</td>\n",
       "      <td>HAN</td>\n",
       "      <td>1000 Block Of Polk St</td>\n",
       "      <td>San Francisco</td>\n",
       "      <td>CA</td>\n",
       "      <td>1</td>\n",
       "      <td>NaN</td>\n",
       "      <td>Premise Address</td>\n",
       "    </tr>\n",
       "    <tr>\n",
       "      <th>8048</th>\n",
       "      <td>160952327</td>\n",
       "      <td>Suspicious Person</td>\n",
       "      <td>2016-04-04T00:00:00</td>\n",
       "      <td>14:58</td>\n",
       "      <td>2016-04-04T14:58:00</td>\n",
       "      <td>HAN</td>\n",
       "      <td>Mcallister St/hyde St</td>\n",
       "      <td>San Francisco</td>\n",
       "      <td>CA</td>\n",
       "      <td>1</td>\n",
       "      <td>NaN</td>\n",
       "      <td>Intersection</td>\n",
       "    </tr>\n",
       "    <tr>\n",
       "      <th>8458</th>\n",
       "      <td>160953093</td>\n",
       "      <td>Passing Call</td>\n",
       "      <td>2016-04-04T00:00:00</td>\n",
       "      <td>18:06</td>\n",
       "      <td>2016-04-04T18:06:00</td>\n",
       "      <td>HAN</td>\n",
       "      <td>1600 Block Of John F Kennedy Dr</td>\n",
       "      <td>San Francisco</td>\n",
       "      <td>CA</td>\n",
       "      <td>1</td>\n",
       "      <td>NaN</td>\n",
       "      <td>Common Location</td>\n",
       "    </tr>\n",
       "    <tr>\n",
       "      <th>8221</th>\n",
       "      <td>160952643</td>\n",
       "      <td>Traffic Stop</td>\n",
       "      <td>2016-04-04T00:00:00</td>\n",
       "      <td>16:15</td>\n",
       "      <td>2016-04-04T16:15:00</td>\n",
       "      <td>CIT</td>\n",
       "      <td>Larkin St/broadway</td>\n",
       "      <td>San Francisco</td>\n",
       "      <td>CA</td>\n",
       "      <td>1</td>\n",
       "      <td>NaN</td>\n",
       "      <td>Intersection</td>\n",
       "    </tr>\n",
       "  </tbody>\n",
       "</table>\n",
       "</div>"
      ],
      "text/plain": [
       "        CrimeId OriginalCrimeTypeName          OffenseDate CallTime  \\\n",
       "8779  160953649                  Male  2016-04-04T00:00:00    20:44   \n",
       "4097  160933192                  Poss  2016-04-02T00:00:00    19:46   \n",
       "8048  160952327     Suspicious Person  2016-04-04T00:00:00    14:58   \n",
       "8458  160953093          Passing Call  2016-04-04T00:00:00    18:06   \n",
       "8221  160952643          Traffic Stop  2016-04-04T00:00:00    16:15   \n",
       "\n",
       "             CallDateTime Disposition                          Address  \\\n",
       "8779  2016-04-04T20:44:00         HAN            Vallejo St/octavia St   \n",
       "4097  2016-04-02T19:46:00         HAN            1000 Block Of Polk St   \n",
       "8048  2016-04-04T14:58:00         HAN            Mcallister St/hyde St   \n",
       "8458  2016-04-04T18:06:00         HAN  1600 Block Of John F Kennedy Dr   \n",
       "8221  2016-04-04T16:15:00         CIT               Larkin St/broadway   \n",
       "\n",
       "               City State AgencyId  Range      AddressType  \n",
       "8779  San Francisco    CA        1    NaN     Intersection  \n",
       "4097  San Francisco    CA        1    NaN  Premise Address  \n",
       "8048  San Francisco    CA        1    NaN     Intersection  \n",
       "8458  San Francisco    CA        1    NaN  Common Location  \n",
       "8221  San Francisco    CA        1    NaN     Intersection  "
      ]
     },
     "execution_count": 8,
     "metadata": {},
     "output_type": "execute_result"
    }
   ],
   "source": [
    "def aleatorio():\n",
    "    '''Con el comando sample() se muestran el número \n",
    "    de registro configurados aleatoriamente de un dataframe'''\n",
    "print(aleatorio.__doc__)\n",
    "datos.sample(5)"
   ]
  },
  {
   "cell_type": "code",
   "execution_count": 9,
   "id": "13f773fc",
   "metadata": {},
   "outputs": [
    {
     "name": "stdout",
     "output_type": "stream",
     "text": [
      "Con el comando shape mustra el tamaño que tiene el dataframe\n"
     ]
    },
    {
     "data": {
      "text/plain": [
       "(10051, 12)"
      ]
     },
     "execution_count": 9,
     "metadata": {},
     "output_type": "execute_result"
    }
   ],
   "source": [
    "def tamaño():\n",
    "    '''Con el comando shape mustra el tamaño que tiene el dataframe'''\n",
    "print(tamaño.__doc__)\n",
    "datos.shape"
   ]
  },
  {
   "cell_type": "markdown",
   "id": "21035543",
   "metadata": {},
   "source": [
    "Obtenemos el tamaños del dataframe con la finalidad de saber la cantidad de datos que se está manejando. Este dataframe tiene 10051 filas y 12 columnas. Esto quiere decir el total de la infromación del conjunto de datos de \"data_act_01.csv\"."
   ]
  },
  {
   "cell_type": "markdown",
   "id": "c72fd827",
   "metadata": {},
   "source": [
    "# Análisis exploratorio de datos"
   ]
  },
  {
   "cell_type": "code",
   "execution_count": 10,
   "id": "d8bc797e",
   "metadata": {},
   "outputs": [
    {
     "name": "stdout",
     "output_type": "stream",
     "text": [
      " La función info() se utiliza para obtener un resumen conciso del marco de datos.\n",
      "<class 'pandas.core.frame.DataFrame'>\n",
      "RangeIndex: 10051 entries, 0 to 10050\n",
      "Data columns (total 12 columns):\n",
      " #   Column                 Non-Null Count  Dtype  \n",
      "---  ------                 --------------  -----  \n",
      " 0   CrimeId                10051 non-null  int64  \n",
      " 1   OriginalCrimeTypeName  10051 non-null  object \n",
      " 2   OffenseDate            10051 non-null  object \n",
      " 3   CallTime               10051 non-null  object \n",
      " 4   CallDateTime           10051 non-null  object \n",
      " 5   Disposition            10051 non-null  object \n",
      " 6   Address                10051 non-null  object \n",
      " 7   City                   9730 non-null   object \n",
      " 8   State                  10048 non-null  object \n",
      " 9   AgencyId               10051 non-null  object \n",
      " 10  Range                  0 non-null      float64\n",
      " 11  AddressType            10051 non-null  object \n",
      "dtypes: float64(1), int64(1), object(10)\n",
      "memory usage: 942.4+ KB\n"
     ]
    }
   ],
   "source": [
    "def infor():\n",
    "    ''' La función info() se utiliza para obtener un resumen conciso del marco de datos.'''\n",
    "print(infor.__doc__)\n",
    "datos.info()"
   ]
  },
  {
   "cell_type": "markdown",
   "id": "c080eb14",
   "metadata": {},
   "source": [
    "Con el método info() se muestra el nombre de cada una de las columnas del dataframe. Aquí se puede observar que la columna City y State contiene valores nulos. Esto se puede deducir con ver la cantidad de valores es diferente a 10051 que es el total de información alamacenada. En cambio la columna Range tiene un total de 0 datos entonces esta se eliminaría, ya que no aporta nada al dataframe. En la columna OffenseDate y CallDateTime están de tipo object, aunque python brinda el tipo de dato datime con la finalidad de hacer operaciones con fechas(filtrar por dias, mes, año). La columna de AgencyId debe ser de tipo entero ya que este especifica el id de la agencia."
   ]
  },
  {
   "cell_type": "code",
   "execution_count": 11,
   "id": "e243e16e",
   "metadata": {
    "scrolled": true
   },
   "outputs": [
    {
     "name": "stdout",
     "output_type": "stream",
     "text": [
      " La función describe() calcula un resumen de estadísticas relacionadas con las columnas de DataFrame .\n"
     ]
    },
    {
     "data": {
      "text/html": [
       "<div>\n",
       "<style scoped>\n",
       "    .dataframe tbody tr th:only-of-type {\n",
       "        vertical-align: middle;\n",
       "    }\n",
       "\n",
       "    .dataframe tbody tr th {\n",
       "        vertical-align: top;\n",
       "    }\n",
       "\n",
       "    .dataframe thead th {\n",
       "        text-align: right;\n",
       "    }\n",
       "</style>\n",
       "<table border=\"1\" class=\"dataframe\">\n",
       "  <thead>\n",
       "    <tr style=\"text-align: right;\">\n",
       "      <th></th>\n",
       "      <th>CrimeId</th>\n",
       "      <th>Range</th>\n",
       "    </tr>\n",
       "  </thead>\n",
       "  <tbody>\n",
       "    <tr>\n",
       "      <th>count</th>\n",
       "      <td>1.005100e+04</td>\n",
       "      <td>0.0</td>\n",
       "    </tr>\n",
       "    <tr>\n",
       "      <th>mean</th>\n",
       "      <td>1.609394e+08</td>\n",
       "      <td>NaN</td>\n",
       "    </tr>\n",
       "    <tr>\n",
       "      <th>std</th>\n",
       "      <td>1.327006e+04</td>\n",
       "      <td>NaN</td>\n",
       "    </tr>\n",
       "    <tr>\n",
       "      <th>min</th>\n",
       "      <td>1.609033e+08</td>\n",
       "      <td>NaN</td>\n",
       "    </tr>\n",
       "    <tr>\n",
       "      <th>25%</th>\n",
       "      <td>1.609303e+08</td>\n",
       "      <td>NaN</td>\n",
       "    </tr>\n",
       "    <tr>\n",
       "      <th>50%</th>\n",
       "      <td>1.609408e+08</td>\n",
       "      <td>NaN</td>\n",
       "    </tr>\n",
       "    <tr>\n",
       "      <th>75%</th>\n",
       "      <td>1.609513e+08</td>\n",
       "      <td>NaN</td>\n",
       "    </tr>\n",
       "    <tr>\n",
       "      <th>max</th>\n",
       "      <td>1.609642e+08</td>\n",
       "      <td>NaN</td>\n",
       "    </tr>\n",
       "  </tbody>\n",
       "</table>\n",
       "</div>"
      ],
      "text/plain": [
       "            CrimeId  Range\n",
       "count  1.005100e+04    0.0\n",
       "mean   1.609394e+08    NaN\n",
       "std    1.327006e+04    NaN\n",
       "min    1.609033e+08    NaN\n",
       "25%    1.609303e+08    NaN\n",
       "50%    1.609408e+08    NaN\n",
       "75%    1.609513e+08    NaN\n",
       "max    1.609642e+08    NaN"
      ]
     },
     "execution_count": 11,
     "metadata": {},
     "output_type": "execute_result"
    }
   ],
   "source": [
    "def descr():\n",
    "    ''' La función describe() calcula un resumen de estadísticas relacionadas con las columnas de DataFrame .'''\n",
    "print(descr.__doc__)\n",
    "datos.describe()"
   ]
  },
  {
   "cell_type": "markdown",
   "id": "64c42c8a",
   "metadata": {},
   "source": [
    "Con el método describe se obtienen datos estdísticos de las columnas numéricas existentes en el dataframe. Aquí se puede observar el comportamiento de estos datos e identificación de valores atípicos del mismo."
   ]
  },
  {
   "cell_type": "markdown",
   "id": "21f81947",
   "metadata": {},
   "source": [
    "# Descripciones"
   ]
  },
  {
   "cell_type": "code",
   "execution_count": 12,
   "id": "0378a9e3",
   "metadata": {},
   "outputs": [
    {
     "name": "stdout",
     "output_type": "stream",
     "text": [
      " Descripción de las variables categóricas.\n"
     ]
    },
    {
     "data": {
      "text/html": [
       "<div>\n",
       "<style scoped>\n",
       "    .dataframe tbody tr th:only-of-type {\n",
       "        vertical-align: middle;\n",
       "    }\n",
       "\n",
       "    .dataframe tbody tr th {\n",
       "        vertical-align: top;\n",
       "    }\n",
       "\n",
       "    .dataframe thead th {\n",
       "        text-align: right;\n",
       "    }\n",
       "</style>\n",
       "<table border=\"1\" class=\"dataframe\">\n",
       "  <thead>\n",
       "    <tr style=\"text-align: right;\">\n",
       "      <th></th>\n",
       "      <th>OriginalCrimeTypeName</th>\n",
       "      <th>OffenseDate</th>\n",
       "      <th>CallTime</th>\n",
       "      <th>CallDateTime</th>\n",
       "      <th>Disposition</th>\n",
       "      <th>Address</th>\n",
       "      <th>City</th>\n",
       "      <th>State</th>\n",
       "      <th>AgencyId</th>\n",
       "      <th>AddressType</th>\n",
       "    </tr>\n",
       "  </thead>\n",
       "  <tbody>\n",
       "    <tr>\n",
       "      <th>count</th>\n",
       "      <td>10051</td>\n",
       "      <td>10051</td>\n",
       "      <td>10051</td>\n",
       "      <td>10051</td>\n",
       "      <td>10051</td>\n",
       "      <td>10051</td>\n",
       "      <td>9730</td>\n",
       "      <td>10048</td>\n",
       "      <td>10051</td>\n",
       "      <td>10051</td>\n",
       "    </tr>\n",
       "    <tr>\n",
       "      <th>unique</th>\n",
       "      <td>575</td>\n",
       "      <td>9</td>\n",
       "      <td>1416</td>\n",
       "      <td>5116</td>\n",
       "      <td>19</td>\n",
       "      <td>5387</td>\n",
       "      <td>8</td>\n",
       "      <td>1</td>\n",
       "      <td>2</td>\n",
       "      <td>6</td>\n",
       "    </tr>\n",
       "    <tr>\n",
       "      <th>top</th>\n",
       "      <td>Traffic Stop</td>\n",
       "      <td>2016-04-02T00:00:00</td>\n",
       "      <td>17:39</td>\n",
       "      <td>2016-04-04T12:23:00</td>\n",
       "      <td>HAN</td>\n",
       "      <td>900 Block Of Market St</td>\n",
       "      <td>San Francisco</td>\n",
       "      <td>CA</td>\n",
       "      <td>1</td>\n",
       "      <td>Premise Address</td>\n",
       "    </tr>\n",
       "    <tr>\n",
       "      <th>freq</th>\n",
       "      <td>1215</td>\n",
       "      <td>2259</td>\n",
       "      <td>19</td>\n",
       "      <td>8</td>\n",
       "      <td>2820</td>\n",
       "      <td>58</td>\n",
       "      <td>9665</td>\n",
       "      <td>10048</td>\n",
       "      <td>10048</td>\n",
       "      <td>5059</td>\n",
       "    </tr>\n",
       "  </tbody>\n",
       "</table>\n",
       "</div>"
      ],
      "text/plain": [
       "       OriginalCrimeTypeName          OffenseDate CallTime  \\\n",
       "count                  10051                10051    10051   \n",
       "unique                   575                    9     1416   \n",
       "top             Traffic Stop  2016-04-02T00:00:00    17:39   \n",
       "freq                    1215                 2259       19   \n",
       "\n",
       "               CallDateTime Disposition                 Address  \\\n",
       "count                 10051       10051                   10051   \n",
       "unique                 5116          19                    5387   \n",
       "top     2016-04-04T12:23:00         HAN  900 Block Of Market St   \n",
       "freq                      8        2820                      58   \n",
       "\n",
       "                 City  State AgencyId      AddressType  \n",
       "count            9730  10048    10051            10051  \n",
       "unique              8      1        2                6  \n",
       "top     San Francisco     CA        1  Premise Address  \n",
       "freq             9665  10048    10048             5059  "
      ]
     },
     "execution_count": 12,
     "metadata": {},
     "output_type": "execute_result"
    }
   ],
   "source": [
    "def categoricas():\n",
    "    ''' Descripción de las variables categóricas.'''\n",
    "print(categoricas.__doc__)\n",
    "datos.describe(include='O')"
   ]
  },
  {
   "cell_type": "markdown",
   "id": "2183de95",
   "metadata": {},
   "source": [
    "Con el método describe con el parámetro include='O' se obtienen datos estadísticos de las columnas de tipo Object o cadenas de caracteres existentes en el dataframe. El count es la cantidad de datos disponibles de cada columna, el unique son los valores únicos que tienen estás columnas, el top que sería el dato que más se repite (moda) y freq es la frecuencia que aparece en la columna en específico."
   ]
  },
  {
   "cell_type": "code",
   "execution_count": null,
   "id": "895f2b6e",
   "metadata": {},
   "outputs": [],
   "source": []
  }
 ],
 "metadata": {
  "kernelspec": {
   "display_name": "Python 3 (ipykernel)",
   "language": "python",
   "name": "python3"
  },
  "language_info": {
   "codemirror_mode": {
    "name": "ipython",
    "version": 3
   },
   "file_extension": ".py",
   "mimetype": "text/x-python",
   "name": "python",
   "nbconvert_exporter": "python",
   "pygments_lexer": "ipython3",
   "version": "3.9.12"
  }
 },
 "nbformat": 4,
 "nbformat_minor": 5
}
